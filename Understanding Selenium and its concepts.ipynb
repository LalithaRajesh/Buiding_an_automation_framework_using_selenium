{
 "cells": [
  {
   "cell_type": "markdown",
   "metadata": {},
   "source": [
    "### To check Python version and Pip version"
   ]
  },
  {
   "cell_type": "code",
   "execution_count": null,
   "metadata": {},
   "outputs": [],
   "source": [
    "#Goto command line (terminal) and check if python is already installed\n",
    "python --version"
   ]
  },
  {
   "cell_type": "code",
   "execution_count": null,
   "metadata": {},
   "outputs": [],
   "source": [
    "#Goto command line (terminal) and check if Python and PIP are installed\n",
    "\n",
    "python --version\n",
    "pip --version"
   ]
  },
  {
   "cell_type": "markdown",
   "metadata": {},
   "source": [
    "### How to install Selenium"
   ]
  },
  {
   "cell_type": "code",
   "execution_count": null,
   "metadata": {},
   "outputs": [],
   "source": [
    "pip install -U selenium"
   ]
  },
  {
   "cell_type": "markdown",
   "metadata": {},
   "source": [
    "#Check selenium is available in python libraries       \n",
    "\n",
    "pip freeze  this should show selenium in the list\n",
    "pip list  this should show selenium in the list\n",
    "pip show selenium  to show details of selenium library\n",
    "pip check selenium  to check if there are any broken dependencies"
   ]
  },
  {
   "cell_type": "markdown",
   "metadata": {},
   "source": [
    "#The below command is to understand where the selenium is downloaded in our system: basically it tells the path\n",
    "pip show selenium"
   ]
  },
  {
   "cell_type": "markdown",
   "metadata": {},
   "source": [
    "### First Selenium Test"
   ]
  },
  {
   "cell_type": "code",
   "execution_count": 53,
   "metadata": {},
   "outputs": [
    {
     "name": "stdout",
     "output_type": "stream",
     "text": [
      "Test Completed\n"
     ]
    }
   ],
   "source": [
    "import time\n",
    "#open a new Firefox browser\n",
    "from selenium import webdriver\n",
    "#WebDriver is a web automation framework that allows you to execute your tests against different browsers, not just Firefox, Chrome (unlike Selenium IDE). WebDriver also enables you to use a programming language in creating your test scripts\n",
    "driver = webdriver.Chrome(\"C:/Users/Rajesh/OneDrive/Desktop/chromedriver_win32 (1)/chromedriver.exe\")\n",
    "#Set the amount of time to wait for a page load to complete before throwing an error.\n",
    "driver.set_page_load_timeout(10)\n",
    "#Load the website\n",
    "driver.get(\"https://google.com\")\n",
    "#Lets now inspect the google search bar and add the 'name' to element. Now, send the keys. Let us say, we have to type \"Automation step by step\"\n",
    "driver.find_element_by_name(\"q\").send_keys(\"Automation step by step\")\n",
    "#So, we now have to search the key that we have typed in the google search bar. Then click the search by click().\n",
    "driver.find_element_by_name(\"btnK\").click()\n",
    "time.sleep(2)\n",
    "driver.close()\n",
    "driver.quit()\n",
    "\n",
    "print(\"Test Completed\")"
   ]
  },
  {
   "cell_type": "markdown",
   "metadata": {},
   "source": [
    "#### Note:\n",
    "WebDriverException: Message: 'chromedriver' executable needs to be in PATH. Please see https://sites.google.com/a/chromium.org/chromedriver/home.\n",
    "\n",
    "We may have a chance of getting this error initially. If suppose we get this error, please click the liNk found on this error. It takes to the corresponding page, where download the stable release of ChromeDriver. Copy the location of where it is getting downloaded. Then put that in the path \"driver = webdriver.Chrome()\""
   ]
  },
  {
   "cell_type": "markdown",
   "metadata": {},
   "source": [
    "### How to run Selenium Python tests on Chrome| Headless chrome\n",
    "\n",
    "<br>1)How to run the Tests on chrome</br>\n",
    "<br>2)How to run tests on headless chrome</br>\n",
    "<br>3)How to set chrome Options</br>"
   ]
  },
  {
   "cell_type": "code",
   "execution_count": 26,
   "metadata": {},
   "outputs": [
    {
     "name": "stdout",
     "output_type": "stream",
     "text": [
      "Google\n",
      "Completed\n"
     ]
    }
   ],
   "source": [
    "#The below code answers how to run tests on google chrome\n",
    "from selenium import webdriver\n",
    "driver = webdriver.Chrome(\"C:/Users/Rajesh/OneDrive/Desktop/chromedriver_win32 (1)/chromedriver.exe\")\n",
    "driver.get(\"https://google.com\")\n",
    "print(driver.title)\n",
    "driver.close()\n",
    "driver.quit()\n",
    "print(\"Completed\")"
   ]
  },
  {
   "cell_type": "code",
   "execution_count": 27,
   "metadata": {},
   "outputs": [
    {
     "name": "stderr",
     "output_type": "stream",
     "text": [
      "C:\\Users\\Rajesh\\Anaconda3\\lib\\site-packages\\ipykernel_launcher.py:6: DeprecationWarning: use options instead of chrome_options\n",
      "  \n"
     ]
    },
    {
     "name": "stdout",
     "output_type": "stream",
     "text": [
      "Google\n",
      "Completed\n"
     ]
    }
   ],
   "source": [
    "#The below code answers how to run tests on headless google chrome.\n",
    "#For doing this, our chrome browser must be more than version 59 and Chromedriver must be v2.38 or more\n",
    "from selenium import webdriver\n",
    "#We create a chrome option to run the chrome browser in headless Environment\n",
    "chrome_options=webdriver.ChromeOptions()\n",
    "chrome_options.add_argument(\"--headless\")\n",
    "driver=webdriver.Chrome(chrome_options=chrome_options, executable_path=\"C:/Users/Rajesh/OneDrive/Desktop/chromedriver_win32 (1)/chromedriver.exe\")\n",
    "driver.get(\"https://google.com\")\n",
    "print(driver.title)\n",
    "driver.close()\n",
    "driver.quit()\n",
    "print(\"Completed\")"
   ]
  },
  {
   "cell_type": "markdown",
   "metadata": {},
   "source": [
    "#### In the above method, we can see that the browser doesn't get opened visibly, but the tests are performed and the result is displayed\n",
    "\n",
    "#### Additional Info:\n",
    "What is headless mode Chrome?\n",
    "<br>It's a way to run the Chrome browser in a headless environment. Essentially, running Chrome without chrome!</br>"
   ]
  },
  {
   "cell_type": "code",
   "execution_count": 54,
   "metadata": {},
   "outputs": [
    {
     "name": "stderr",
     "output_type": "stream",
     "text": [
      "C:\\Users\\Rajesh\\Anaconda3\\lib\\site-packages\\ipykernel_launcher.py:7: DeprecationWarning: use options instead of chrome_options\n",
      "  import sys\n"
     ]
    },
    {
     "name": "stdout",
     "output_type": "stream",
     "text": [
      "Google\n",
      "Automation step by step - Google Search\n",
      "Completed\n"
     ]
    }
   ],
   "source": [
    "#There is an optional way of doing the above method\n",
    "from selenium.webdriver.chrome.options import Options\n",
    "\n",
    "chrome_options= Options()\n",
    "chrome_options.add_argument(\"--headless\")\n",
    "\n",
    "driver=webdriver.Chrome(chrome_options=chrome_options, executable_path=\"C:/Users/Rajesh/OneDrive/Desktop/chromedriver_win32 (1)/chromedriver.exe\")\n",
    "\n",
    "driver.get(\"https://google.com\")\n",
    "print(driver.title)\n",
    "driver.find_element_by_name(\"q\").send_keys(\"Automation step by step\")\n",
    "driver.find_element_by_name(\"btnK\").click()\n",
    "print(driver.title)\n",
    "driver.close()\n",
    "driver.quit()\n",
    "print(\"Completed\")"
   ]
  },
  {
   "cell_type": "markdown",
   "metadata": {},
   "source": [
    "### Selenium Python testing on Firefox | Headless Firefox\n",
    "\n",
    "<br>1)How to run the Tests on Firefox</br>\n",
    "<br>2)How to run tests on headless Firefox</br>\n",
    "<br>3)How to set Firefox Options</br>"
   ]
  },
  {
   "cell_type": "code",
   "execution_count": 60,
   "metadata": {},
   "outputs": [
    {
     "name": "stdout",
     "output_type": "stream",
     "text": [
      "Google\n"
     ]
    }
   ],
   "source": [
    "from selenium import webdriver\n",
    "\n",
    "path = \"C:/Users/Rajesh/OneDrive/Desktop/geckodriver-v0.26.0-win64/geckodriver.exe\"\n",
    "driver= webdriver.Firefox(executable_path=path)\n",
    "driver.get(\"https://google.com\")\n",
    "print(driver.title)\n",
    "driver.close()\n",
    "driver.quit()"
   ]
  },
  {
   "cell_type": "markdown",
   "metadata": {},
   "source": [
    "so the above method opens the firefox and navigates to google.com"
   ]
  },
  {
   "cell_type": "code",
   "execution_count": 30,
   "metadata": {},
   "outputs": [
    {
     "name": "stdout",
     "output_type": "stream",
     "text": [
      "Google\n"
     ]
    }
   ],
   "source": [
    "#Now let us add a 'time' to the above code. so that the test waits for 2 minutes on google.com page, which runs on the firefox.\n",
    "\n",
    "from selenium import webdriver\n",
    "import time\n",
    "\n",
    "path = \"C:/Users/Rajesh/OneDrive/Desktop/geckodriver-v0.26.0-win64/geckodriver.exe\"\n",
    "driver= webdriver.Firefox(executable_path=path)\n",
    "driver.get(\"https://google.com\")\n",
    "time.sleep(2)\n",
    "print(driver.title)\n",
    "driver.close()\n",
    "driver.quit()"
   ]
  },
  {
   "cell_type": "code",
   "execution_count": null,
   "metadata": {},
   "outputs": [],
   "source": [
    "from selenium import webdriver\n",
    "import time\n",
    "\n",
    "path = \"C:/Users/Rajesh/OneDrive/Desktop/geckodriver-v0.26.0-win64/geckodriver.exe\"\n",
    "driver= webdriver.Firefox(executable_path=path)\n",
    "driver.get(\"https://google.com\")\n",
    "driver.find_element_by_name(\"q\").send_keys(\"Automation step by step\")\n",
    "driver.find_element_by_name(\"btnK\").click()\n",
    "print(driver.title)\n",
    "time.sleep(2)\n",
    "print(driver.title)\n",
    "driver.close()\n",
    "driver.quit()"
   ]
  },
  {
   "cell_type": "markdown",
   "metadata": {},
   "source": [
    "So if the run the above code, we wil get the following error:\n",
    "\n",
    "ElementNotInteractableException:Message: Element input class=\"gNO89b\" name=\"btnK\" type=\"submit\" could not be scrolled into view\n",
    "\n",
    "This is because the search button is overlapped by the search result. So to avoid this  we are now going to import the keys library\n",
    "<br>from selenium.webdriver.common.keys import keys</br>"
   ]
  },
  {
   "cell_type": "code",
   "execution_count": 56,
   "metadata": {},
   "outputs": [
    {
     "name": "stdout",
     "output_type": "stream",
     "text": [
      "google search through python - Google Search\n"
     ]
    }
   ],
   "source": [
    "from selenium import webdriver\n",
    "import time\n",
    "from selenium.webdriver.common.keys import Keys\n",
    "    \n",
    "path = \"C:/Users/Rajesh/OneDrive/Desktop/geckodriver-v0.26.0-win64/geckodriver.exe\"\n",
    "driver= webdriver.Firefox(executable_path=path)\n",
    "\n",
    "driver.set_page_load_timeout(10)\n",
    "driver.get(\"https://google.com\")\n",
    "search = driver.find_element_by_name(\"q\")\n",
    "search.send_keys(\"google search through python\")\n",
    "search.send_keys(Keys.ENTER)\n",
    "time.sleep(2)\n",
    "print(driver.title)\n",
    "driver.close()\n",
    "driver.quit()"
   ]
  },
  {
   "cell_type": "code",
   "execution_count": 59,
   "metadata": {},
   "outputs": [
    {
     "name": "stderr",
     "output_type": "stream",
     "text": [
      "C:\\Users\\Rajesh\\Anaconda3\\lib\\site-packages\\ipykernel_launcher.py:9: DeprecationWarning: use options instead of firefox_options\n",
      "  if __name__ == '__main__':\n"
     ]
    },
    {
     "name": "stdout",
     "output_type": "stream",
     "text": [
      "google search through python - Google Search\n"
     ]
    }
   ],
   "source": [
    "#How to run tests on headless Firefox\n",
    "from selenium import webdriver\n",
    "import time\n",
    "from selenium.webdriver.common.keys import Keys\n",
    "\n",
    "firefox_options= webdriver.FirefoxOptions()\n",
    "firefox_options.add_argument(\"--headless\")\n",
    "    \n",
    "path = \"C:/Users/Rajesh/OneDrive/Desktop/geckodriver-v0.26.0-win64/geckodriver.exe\"\n",
    "driver= webdriver.Firefox(executable_path=path,firefox_options=firefox_options)\n",
    "\n",
    "driver.set_page_load_timeout(10)\n",
    "driver.get(\"https://google.com\")\n",
    "search = driver.find_element_by_name(\"q\")\n",
    "search.send_keys(\"google search through python\")\n",
    "search.send_keys(Keys.ENTER)\n",
    "time.sleep(2)\n",
    "print(driver.title)\n",
    "driver.close()\n",
    "driver.quit()"
   ]
  },
  {
   "cell_type": "markdown",
   "metadata": {},
   "source": [
    "### WebDriver Manager"
   ]
  },
  {
   "cell_type": "markdown",
   "metadata": {},
   "source": [
    "WebDriver Manager is a library that heps to manage our browser drivers and we do no need to manaually download the browser files or .exe file, then add it to the path.. In short, the use of WebDriver Manager solves this problem. \n",
    "\n",
    "Refer to the following link to understand how the WebDrivers are installed - https://github.com/SergeyPirogov/webdriver_manager\n",
    "\n",
    "<br>1) pip install webdriver_manager<\\br>\n",
    "<br>2) pip list (to confirm if webdriver manager is installed successfully)<\\br>"
   ]
  },
  {
   "cell_type": "code",
   "execution_count": 1,
   "metadata": {},
   "outputs": [
    {
     "name": "stdout",
     "output_type": "stream",
     "text": [
      "Trying to download new driver from http://chromedriver.storage.googleapis.com/79.0.3945.36/chromedriver_win32.zip\n",
      "Unpack archive C:\\Users\\Rajesh\\.wdm\\drivers\\chromedriver\\79.0.3945.36\\win32\\chromedriver.zip\n"
     ]
    }
   ],
   "source": [
    "#TESTING ON A CHROME BROWSER\n",
    "from selenium import webdriver\n",
    "#Please check the github link provided above for the use on following commands\n",
    "from webdriver_manager.chrome import ChromeDriverManager\n",
    "import time\n",
    "driver = webdriver.Chrome(ChromeDriverManager().install()) #-----> We dont need to specifically provide the .exe file to access the chromedriver. We can directly use it.\n",
    "driver.get(\"https://google.com\")\n",
    "time.sleep(2)\n",
    "driver.close()\n",
    "driver.quit()"
   ]
  },
  {
   "cell_type": "code",
   "execution_count": 3,
   "metadata": {},
   "outputs": [
    {
     "name": "stdout",
     "output_type": "stream",
     "text": [
      "\n",
      "Looking for [geckodriver v0.26.0 win64] driver in cache \n",
      "File found in cache by path [C:\\Users\\Rajesh\\.wdm\\drivers\\geckodriver\\v0.26.0\\win64\\geckodriver.exe]\n"
     ]
    }
   ],
   "source": [
    "#SIMILAR TESTING ON FIREFOX BROWSER\n",
    "from selenium import webdriver\n",
    "#Please check the github link provided above for the use on following commands\n",
    "from webdriver_manager.firefox import GeckoDriverManager\n",
    "import time\n",
    "driver = webdriver.Firefox(executable_path=GeckoDriverManager().install()) #-----> We dont need to specifically provide the .exe file to access the Firefox driver. We can directly use it.\n",
    "driver.get(\"https://google.com\")\n",
    "time.sleep(2)\n",
    "driver.close()\n",
    "driver.quit()"
   ]
  },
  {
   "cell_type": "markdown",
   "metadata": {},
   "source": [
    "### Web Elements Locators\n",
    "\n",
    "#### Functions to find Web element (list of elements)\n",
    "\n",
    " - find_element_by_id\n",
    " - find_element_by_name\n",
    " - find_element_by_class_name\n",
    " - find_element_by_css_selector\n",
    " - find_element_by_tag_name\n",
    " - find_element_by_link_text\n",
    " - find_element_by_partial_link_test\n",
    " - find_element_by_xpath\n",
    "\n"
   ]
  },
  {
   "cell_type": "code",
   "execution_count": null,
   "metadata": {},
   "outputs": [],
   "source": [
    "#Use of find_element_by_name locator\n",
    "from selenium import webdriver\n",
    "driver = webdriver.Chrome(\"C:/Users/Rajesh/OneDrive/Desktop/chromedriver_win32 (1)/chromedriver.exe\")\n",
    "driver.get(\"https://google.com\")\n",
    "search = driver.find_element_by_name(\"q\")\n",
    "search.send_keys(\"Lalitha\")   \n",
    "search.send_keys(Keys.ENTER)\n",
    "time.sleep(2)\n",
    "print(driver.title)\n",
    "driver.close()\n",
    "driver.quit()"
   ]
  },
  {
   "cell_type": "markdown",
   "metadata": {},
   "source": [
    "#### What is XPath and how to use it\n",
    "#### XPath - Path of the lement in that entire page\n",
    "\n",
    " - abs Xpath - The absolute xpath get the location of a particular element starting from the beginning of the document\n",
    "  \n",
    "/html[1]/body[1]/div[1]/div[4]/form[1]/div[2]/div[1]/div[1]/div[1]/div[2]/input[1]\n",
    "\n",
    " - rel XPath - Relative XPath -It just tells the location of where we stand on the page (this is much easier to figure out than using an abs XPath)\n",
    " //input[@name='q']\n",
    " \n",
    "#### Note: \n",
    "Add Chropath extension from chrome apps store to the browser. Only then the Xpath can be found from the F12/Inspect method.\n",
    "In a similar manner, we can also XPath helper from the chrome apps store."
   ]
  },
  {
   "cell_type": "markdown",
   "metadata": {},
   "source": [
    "### Selenium PyTest | PyTest\n",
    "\n",
    "<br> What is PyTest? <\\br>\n",
    "<br> How to install PyTest <\\br>\n",
    "<br> How to use PyTestwith Selenium Scripts<\\br>\n",
    "<br> How to run Tests using PyTest <\\br>\n",
    "\n",
    "\n",
    "<br> PyTest framework makes it easy to write small tests, yet scales to support complex functional testing for applications and libraries. <\\br>"
   ]
  },
  {
   "cell_type": "code",
   "execution_count": null,
   "metadata": {},
   "outputs": [],
   "source": [
    "#Check for PyTest version if Installed on your command line\n",
    "pytest --version"
   ]
  },
  {
   "cell_type": "code",
   "execution_count": null,
   "metadata": {},
   "outputs": [],
   "source": [
    "#In case, if not installed already, please find the below command\n",
    "pip install -U pytest"
   ]
  },
  {
   "cell_type": "markdown",
   "metadata": {},
   "source": [
    "Naming Conventions:\n",
    "Please understand the naming convensions of the PyTest file should be as below in case if you use PyCharm or any Scripting IDE\n",
    "\n",
    " - test_*.py \n",
    " - *_test.py"
   ]
  },
  {
   "cell_type": "code",
   "execution_count": null,
   "metadata": {},
   "outputs": [],
   "source": [
    "#Now let us see a demo, how to use pyTest with Selenium\n",
    "from selenium import webdriver\n",
    " \n",
    "driver = webdriver.Chrome(\"C:/Users/Rajesh/OneDrive/Desktop/chromedriver_win32 (1)/chromedriver.exe\")\n",
    "driver.implicitly_wait(10)\n",
    "driver.maximize_window()\n",
    "\n",
    "driver.get(\"https://opensource-demo.orangehrmlive.com/\")\n",
    "\n",
    "#Adding the Username on the above URL\n",
    "driver.find_element_by_id(\"txtUsername\").send_keys(\"Admin\")\n",
    "\n",
    "#Adding a password on the above URL\n",
    "driver.find_element_by_id(\"txtPassword\").send_keys(\"admin123\")\n",
    "\n",
    "#Setting the option to click the login button after entering the Username and password\n",
    "driver.find_element_by_id(\"btnLogin\").click()\n",
    "\n",
    "#So, after entering inside the portal, we are now in the welcome page (Please see the extreme right corner as \"Welcome Admin\"). Click there to inspect the element\n",
    "driver.find_element_by_id(\"welcome\").click()\n",
    "\n",
    "#then, once after we are in the home page, We will now try to logout. (Since this is a demo, I now try to logout successfully. But in real life scenario, we add many things after entering the home page)\n",
    "driver.find_element_by_link_text(\"Logout\").click()\n",
    "\n",
    "#Time to close all the drivers\n",
    "driver.close()\n",
    "driver.quit()\n",
    "print(\"Test Completed\")\n"
   ]
  },
  {
   "cell_type": "code",
   "execution_count": 4,
   "metadata": {},
   "outputs": [
    {
     "name": "stdout",
     "output_type": "stream",
     "text": [
      "Successful in maximizing the window\n",
      "None\n",
      "Successful in logging in\n",
      "None\n",
      "Test Completed\n",
      "None\n",
      "Executed Successfully\n"
     ]
    }
   ],
   "source": [
    "#Refactoring the code using SETUP and TEARDOWN Method\n",
    "from selenium import webdriver\n",
    "\n",
    "def test_setup():\n",
    "    #Setup driver as global as the driver has to be used in many functions afterwards.\n",
    "    global driver \n",
    "    driver = webdriver.Chrome(\"C:/Users/Rajesh/OneDrive/Desktop/chromedriver_win32 (1)/chromedriver.exe\")\n",
    "    driver.implicitly_wait(10)\n",
    "    driver.maximize_window()\n",
    "    print(\"Successful in maximizing the window\")\n",
    "    \n",
    "def test_login():\n",
    "    driver.get(\"https://opensource-demo.orangehrmlive.com/\")\n",
    "    #Adding the Username on the above URL\n",
    "    driver.find_element_by_id(\"txtUsername\").send_keys(\"Admin\")\n",
    "    #Adding a password on the above URL\n",
    "    driver.find_element_by_id(\"txtPassword\").send_keys(\"admin123\")\n",
    "    #Setting the option to click the login button after entering the Username and password\n",
    "    driver.find_element_by_id(\"btnLogin\").click()\n",
    "    x=driver.title\n",
    "    assert x == \"OrangeHRM\"\n",
    "    print(\"Successful in logging in\")\n",
    "\n",
    "def test_teardown():\n",
    "    #close all the drivers\n",
    "    driver.close()\n",
    "    driver.quit()\n",
    "    print(\"Test Completed\")\n",
    "    \n",
    "def main():\n",
    "        setup= test_setup()\n",
    "        print(setup)\n",
    "        login = test_login()\n",
    "        print(login)\n",
    "        teardown = test_teardown()\n",
    "        print (teardown)\n",
    "        print(\"Executed Successfully\")\n",
    "if __name__ == \"__main__\":\n",
    "    main()"
   ]
  },
  {
   "cell_type": "code",
   "execution_count": 25,
   "metadata": {},
   "outputs": [
    {
     "name": "stdout",
     "output_type": "stream",
     "text": [
      "<__main__.Testsample object at 0x000001C08E339F88>\n"
     ]
    }
   ],
   "source": [
    "#Refactoring the code using PyTest Fixtures\n",
    "from selenium import webdriver\n",
    "import pytest\n",
    "\n",
    "class Testsample():\n",
    "    @pytest.fixture(scope='module')\n",
    "    def driver(self):\n",
    "        print (\"=============SETUP================\")\n",
    "        driver = webdriver.Chrome(\"C:/Users/Rajesh/OneDrive/Desktop/chromedriver_win32 (1)/chromedriver.exe\")\n",
    "        driver.implicitly_wait(10)\n",
    "        driver.maximize_window()\n",
    "        print(\"Successful in maximizing the window\")\n",
    "        yield driver\n",
    "        driver.close()\n",
    "        driver.quit()\n",
    "\n",
    "\n",
    "    def test_login(self,driver):\n",
    "        driver.get(\"https://opensource-demo.orangehrmlive.com/\")\n",
    "        #Adding the Username on the above URL\n",
    "        driver.find_element_by_id(\"txtUsername\").send_keys(\"Admin\")\n",
    "        #Adding a password on the above URL\n",
    "        driver.find_element_by_id(\"txtPassword\").send_keys(\"admin123\")\n",
    "        #Setting the option to click the login button after entering the Username and password\n",
    "        driver.find_element_by_id(\"btnLogin\").click()\n",
    "        x=driver.title\n",
    "        assert x == \"OrangeHRM\"\n",
    "        return \"Successful in logging in\"\n",
    "\n",
    "    \n",
    "if __name__ == '__main__':\n",
    "    s= Testsample()\n",
    "    print(s)"
   ]
  },
  {
   "cell_type": "markdown",
   "metadata": {},
   "source": [
    "### PyTest| How to Skip Tests"
   ]
  },
  {
   "cell_type": "code",
   "execution_count": 28,
   "metadata": {},
   "outputs": [],
   "source": [
    "import pytest\n",
    "import sys\n",
    "\n",
    "@pytest.mark.skip(reason=\"Not included in this build\")\n",
    "def test_demo_1():\n",
    "    assert True\n",
    "    \n",
    "@pytest.mark.skipif(sys.version_info < (3,6), reason=\"requires 3.6 or higher version\")\n",
    "def test_demo_2():\n",
    "    assert True\n",
    "def test_demo_3():\n",
    "    assert True"
   ]
  },
  {
   "cell_type": "markdown",
   "metadata": {},
   "source": [
    "# Building a Complete Automation Framework using Selenium\n",
    "\n",
    "(Using Jupyter Notebook|POM | PyTest | Allure Reports | Git |Jenkins)"
   ]
  },
  {
   "cell_type": "code",
   "execution_count": 1,
   "metadata": {},
   "outputs": [
    {
     "name": "stdout",
     "output_type": "stream",
     "text": [
      "Test Completed\n"
     ]
    }
   ],
   "source": [
    "from selenium  import webdriver\n",
    "driver = webdriver.Chrome(\"C:/Users/Rajesh/OneDrive/Desktop/chromedriver_win32 (1)/chromedriver.exe\")\n",
    "driver.implicitly_wait(5)\n",
    "driver.maximize_window\n",
    "driver.get(\"https://opensource-demo.orangehrmlive.com/\")\n",
    "\n",
    "#Adding the Username on the above URL\n",
    "driver.find_element_by_id(\"txtUsername\").send_keys(\"Admin\")\n",
    "\n",
    "#Adding a password on the above URL\n",
    "driver.find_element_by_id(\"txtPassword\").send_keys(\"admin123\")\n",
    "\n",
    "#Setting the option to click the login button after entering the Username and password\n",
    "driver.find_element_by_id(\"btnLogin\").click()\n",
    "\n",
    "#So, after entering inside the portal, we are now in the welcome page (Please see the extreme right corner as \"Welcome Admin\"). Click there to inspect the element\n",
    "driver.find_element_by_id(\"welcome\").click()\n",
    "\n",
    "#then, once after we are in the home page, We will now try to logout. (Since this is a demo, I now try to logout successfully. But in real life scenario, we add many things after entering the home page)\n",
    "driver.find_element_by_link_text(\"Logout\").click()\n",
    "\n",
    "#Time to close all the drivers\n",
    "driver.close()\n",
    "driver.quit()\n",
    "print(\"Test Completed\")"
   ]
  },
  {
   "cell_type": "code",
   "execution_count": 33,
   "metadata": {},
   "outputs": [],
   "source": [
    "from selenium  import webdriver\n",
    "import pytest\n",
    "\n",
    "class TestLogin():\n",
    "    @pytest.fixture(scope=\"class\")\n",
    "    def test_setup(self):\n",
    "        global driver\n",
    "        driver = webdriver.Chrome(\"C:/Users/Rajesh/OneDrive/Desktop/chromedriver_win32 (1)/chromedriver.exe\")\n",
    "        driver.implicitly_wait(5)\n",
    "        driver.maximize_window\n",
    "        yield\n",
    "        driver.close()\n",
    "        driver.quit()\n",
    "        print(\"Test Completed\")\n",
    "\n",
    "    def test_login(self,test_setup):\n",
    "        driver.get(\"https://opensource-demo.orangehrmlive.com/\")\n",
    "        driver.find_element_by_id(\"txtUsername\").send_keys(\"Admin\")\n",
    "        driver.find_element_by_id(\"txtPassword\").send_keys(\"admin123\")\n",
    "        driver.find_element_by_id(\"btnLogin\").click()\n",
    "\n",
    "    def test_logout(self,test_setup):\n",
    "\n",
    "        driver.find_element_by_id(\"welcome\").click()\n",
    "        driver.find_element_by_link_text(\"Logout\").click()"
   ]
  },
  {
   "cell_type": "code",
   "execution_count": 34,
   "metadata": {},
   "outputs": [],
   "source": [
    "#PAGE OBJECT MODEL SETUP\n",
    "#Lets now cteate a Login Page\n",
    "#While in Pycharm, under pages folder create python file to create  classes under pages\n",
    "class LoginPage():\n",
    "    \n",
    "    def __init__(self, driver):\n",
    "        self.driver = driver\n",
    "        \n",
    "        self.username_textbox_id = \"txtUsername\"\n",
    "        self.password_textbox_id = \"txtPassword\"\n",
    "        self.login_button_id = \"btnLogin\"\n",
    "        \n",
    "    def enter_username(self, username):\n",
    "        self.driver.find_element_by_id(self.username_textbox_id).clear()\n",
    "        self.driver.find_element_by_id(self.username_textbox_id).send_keys(username)\n",
    "        \n",
    "        \n",
    "    def enter_password(self, password):\n",
    "        self.driver.find_element_by_id(self.password_textbox_id).clear()\n",
    "        self.driver.find_element_by_id(self.password_textbox_id).send_keys(password)\n",
    "        \n",
    "    def click_login(self):\n",
    "        self.driver.find_element_by_id(self.login_button_id).click()\n",
    "        "
   ]
  },
  {
   "cell_type": "code",
   "execution_count": 35,
   "metadata": {},
   "outputs": [],
   "source": [
    "#Add the page objects and actions in respective classes\n",
    "class Home_page():\n",
    "    \n",
    "    def __init__(self,driver):\n",
    "        self.driver = driver\n",
    "        \n",
    "        \n",
    "        self.welcome_link_id = \"welcome\"\n",
    "        self.logout_link_linkText = \"Logout\"\n",
    "        \n",
    "    def click_welcome(self):\n",
    "        self.driver.find_element_by_id(self.welcome_link_id_link_id).click()\n",
    "        \n",
    "    def click_logout(self):\n",
    "        driver.find_element_by_link_text(\"Logout\").click()"
   ]
  },
  {
   "cell_type": "code",
   "execution_count": null,
   "metadata": {},
   "outputs": [],
   "source": [
    "#Now create objects for pages in test script and use the functions  Run &Validate\n",
    "from selenium import webdriver\n",
    "import pytest\n",
    "from pages.loginPage import LoginPage\n",
    "from pages.homePage import HomePage\n",
    "\n",
    "class TestLogin():\n",
    "    \n",
    "    @pytest.fixture(scope=\"class\")\n",
    "    def test_setup(self):\n",
    "        global driver\n",
    "        driver = webdriver.Chrome(\"C:/Users/Rajesh/OneDrive/Desktop/chromedriver_win32 (1)/chromedriver.exe\")\n",
    "        driver.implicitly_wait(5)\n",
    "        driver.maximize_window\n",
    "        yield\n",
    "        driver.close()\n",
    "        driver.quit()\n",
    "        print(\"Test Completed\")\n",
    "\n",
    "    def test_login(self,test_setup):\n",
    "        driver.get(\"https://opensource-demo.orangehrmlive.com/\")\n",
    "        \n",
    "        login = LoginPage(driver)\n",
    "        login.enter_username(\"Admin\")\n",
    "        login.enter_username(\"admin123\")\n",
    "        login.click.login()\n",
    "\n",
    "    def test_logout(self,test_setup):\n",
    "        \n",
    "        homepage = HomePage(driver)\n",
    "        homepage.click_welcome()\n",
    "        homepage.click_logout()\n"
   ]
  },
  {
   "cell_type": "code",
   "execution_count": null,
   "metadata": {},
   "outputs": [],
   "source": [
    "#In Utils Folder create python file Utils and add constants\n",
    "from selenium import webdriver\n",
    "import pytest\n",
    "from pages.loginPage import LoginPage\n",
    "from pages.homePage import HomePage\n",
    "from utils import utils as utils\n",
    "\n",
    "#CONSTANTS\n",
    "URL = \"https://opensource-demo.orangehrmlive.com/\"\n",
    "USERNAME = \"Admin\"\n",
    "PASSWORD = \"admin123\"\n",
    "\n",
    "class TestLogin():\n",
    "    \n",
    "    @pytest.fixture(scope=\"class\")\n",
    "    def test_setup(self):\n",
    "        global driver\n",
    "        driver = webdriver.Chrome(\"C:/Users/Rajesh/OneDrive/Desktop/chromedriver_win32 (1)/chromedriver.exe\")\n",
    "        driver.implicitly_wait(5)\n",
    "        driver.maximize_window\n",
    "        yield\n",
    "        driver.close()\n",
    "        driver.quit()\n",
    "        print(\"Test Completed\")\n",
    "\n",
    "    def test_login(self,test_setup):\n",
    "        driver.get(utils.URL)\n",
    "        \n",
    "        login = LoginPage(driver)\n",
    "        login.enter_username(utils.USERNAME)\n",
    "        login.enter_username(utils.PASSWORD)\n",
    "        login.click.login()\n",
    "\n",
    "    def test_logout(self,test_setup):\n",
    "        \n",
    "        homepage = HomePage(driver)\n",
    "        homepage.click_welcome()\n",
    "        homepage.click_logout()\n"
   ]
  },
  {
   "cell_type": "code",
   "execution_count": null,
   "metadata": {},
   "outputs": [],
   "source": [
    "#Add Package Pytest-html and show html reports\n",
    "python -m ptest --html = reports/report1.html\n",
    "#Now, there is a html report is built under report1.html"
   ]
  },
  {
   "cell_type": "code",
   "execution_count": null,
   "metadata": {},
   "outputs": [],
   "source": []
  }
 ],
 "metadata": {
  "kernelspec": {
   "display_name": "Python 3",
   "language": "python",
   "name": "python3"
  },
  "language_info": {
   "codemirror_mode": {
    "name": "ipython",
    "version": 3
   },
   "file_extension": ".py",
   "mimetype": "text/x-python",
   "name": "python",
   "nbconvert_exporter": "python",
   "pygments_lexer": "ipython3",
   "version": "3.7.4"
  }
 },
 "nbformat": 4,
 "nbformat_minor": 2
}
